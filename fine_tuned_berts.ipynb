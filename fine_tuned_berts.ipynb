{
 "cells": [
  {
   "cell_type": "code",
   "execution_count": null,
   "metadata": {},
   "outputs": [],
   "source": [
    "from transformers import AutoTokenizer, AutoModel\n",
    "import yaml\n",
    "from utils.helpers import normalize_score, cos_sim_score, mean_pooling\n",
    "from tqdm import tqdm\n",
    "import numpy as np\n",
    "import pandas as pd\n",
    "from scipy.stats import pearsonr\n",
    "import torch\n",
    "\n",
    "with open('./benchmarks.yaml', 'r') as file:\n",
    "        benchmarks = yaml.safe_load(file)\n",
    "\n",
    "\n",
    "def gen_statistics(model, tokenizer):\n",
    "        for k, v in benchmarks.items():\n",
    "                tqdm.write(f'Processing {k} benchmark.')\n",
    "                data = pd.read_csv(v.get('data_dir'), sep='\\t')\n",
    "\n",
    "                ## get terms\n",
    "                term1 = list(set(data['Term1'].tolist()))\n",
    "                term2 = list(set(data['Term2'].tolist()))\n",
    "                terms = list(set([*term1, *term2]))\n",
    "\n",
    "                del term1, term2\n",
    "\n",
    "                min = v['min']\n",
    "                max = v['max']\n",
    "\n",
    "                ## normalize scores\n",
    "                scores = normalize_score(np.asarray(data['Score'].tolist()), min=min, max=max)\n",
    "\n",
    "                embs = {}\n",
    "                for i in range(len(terms)):\n",
    "                        x = tokenizer(terms[i], padding=True, truncation=False, return_tensors=\"pt\")\n",
    "                        with torch.no_grad():\n",
    "                                emb = model(**x)\n",
    "                        emb = mean_pooling(emb, x['attention_mask'])\n",
    "\n",
    "                        embs[terms[i]] = {'mean': emb}\n",
    "\n",
    "                        \n",
    "\n",
    "                pred = []\n",
    "                for i in range(len(data)):\n",
    "                        term1, term2 = data.iloc[i]['Term1'], data.iloc[i]['Term2']\n",
    "                        emb1, emb2 = embs.get(term1), embs.get(term2)\n",
    "                        pred.append(cos_sim_score(emb1, emb2))\n",
    "\n",
    "                corr, p_value = pearsonr(scores, pred)\n",
    "\n",
    "                tqdm.write(f'Corr: {round(corr, 4)}, p-value: {p_value}')"
   ]
  },
  {
   "cell_type": "code",
   "execution_count": null,
   "metadata": {},
   "outputs": [],
   "source": [
    "tokenizer = AutoTokenizer.from_pretrained('./umlsbert')\n",
    "model = AutoModel.from_pretrained('./umlsbert')\n",
    "\n",
    "\n",
    "gen_statistics(model=model, tokenizer=tokenizer)"
   ]
  },
  {
   "cell_type": "code",
   "execution_count": null,
   "metadata": {},
   "outputs": [],
   "source": [
    "tokenizer = AutoTokenizer.from_pretrained('medicalai/ClinicalBERT')\n",
    "model = AutoModel.from_pretrained('medicalai/ClinicalBERT')\n",
    "\n",
    "gen_statistics(model=model, tokenizer=tokenizer)"
   ]
  },
  {
   "cell_type": "code",
   "execution_count": null,
   "metadata": {},
   "outputs": [],
   "source": [
    "tokenizer = AutoTokenizer.from_pretrained('emilyalsentzer/Bio_ClinicalBERT')\n",
    "model = AutoModel.from_pretrained('emilyalsentzer/Bio_ClinicalBERT')\n",
    "\n",
    "gen_statistics(model=model, tokenizer=tokenizer)"
   ]
  },
  {
   "cell_type": "code",
   "execution_count": null,
   "metadata": {},
   "outputs": [],
   "source": [
    "tokenizer = AutoTokenizer.from_pretrained('sentence-transformers/all-mpnet-base-v1')\n",
    "model = AutoModel.from_pretrained('sentence-transformers/all-mpnet-base-v1')\n",
    "\n",
    "gen_statistics(model=model, tokenizer=tokenizer)"
   ]
  },
  {
   "cell_type": "code",
   "execution_count": null,
   "metadata": {},
   "outputs": [],
   "source": []
  }
 ],
 "metadata": {
  "kernelspec": {
   "display_name": ".venv",
   "language": "python",
   "name": "python3"
  },
  "language_info": {
   "codemirror_mode": {
    "name": "ipython",
    "version": 3
   },
   "file_extension": ".py",
   "mimetype": "text/x-python",
   "name": "python",
   "nbconvert_exporter": "python",
   "pygments_lexer": "ipython3",
   "version": "3.12.3"
  }
 },
 "nbformat": 4,
 "nbformat_minor": 2
}
