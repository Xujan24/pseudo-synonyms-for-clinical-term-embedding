{
 "cells": [
  {
   "cell_type": "code",
   "execution_count": null,
   "metadata": {},
   "outputs": [
    {
     "name": "stderr",
     "output_type": "stream",
     "text": [
      "/home/punsantosh/School/sts/.venv/lib/python3.12/site-packages/tqdm/auto.py:21: TqdmWarning: IProgress not found. Please update jupyter and ipywidgets. See https://ipywidgets.readthedocs.io/en/stable/user_install.html\n",
      "  from .autonotebook import tqdm as notebook_tqdm\n"
     ]
    }
   ],
   "source": [
    "from transformers import AutoTokenizer, AutoModel\n",
    "import yaml\n",
    "from utils.helpers import normalize_score, cos_sim_score, mean_pooling\n",
    "from tqdm import tqdm\n",
    "import numpy as np\n",
    "import pandas as pd\n",
    "from scipy.stats import pearsonr\n",
    "import torch\n",
    "\n",
    "with open('./benchmarks.yaml', 'r') as file:\n",
    "        benchmarks = yaml.safe_load(file)\n",
    "\n",
    "\n",
    "def gen_statistics(model, tokenizer):\n",
    "        for k, v in benchmarks.items():\n",
    "                tqdm.write(f'Processing {k} benchmark.')\n",
    "                data = pd.read_csv(v.get('data_dir'), sep='\\t')\n",
    "\n",
    "                ## get terms\n",
    "                term1 = list(set(data['Term1'].tolist()))\n",
    "                term2 = list(set(data['Term2'].tolist()))\n",
    "                terms = list(set([*term1, *term2]))\n",
    "\n",
    "                del term1, term2\n",
    "\n",
    "                min = v['min']\n",
    "                max = v['max']\n",
    "\n",
    "                ## normalize scores\n",
    "                scores = normalize_score(np.asarray(data['Score'].tolist()), min=min, max=max)\n",
    "\n",
    "                embs = {}\n",
    "                for i in range(len(terms)):\n",
    "                        x = tokenizer(terms[i], padding=True, truncation=False, return_tensors=\"pt\")\n",
    "                        with torch.no_grad():\n",
    "                                emb = model(**x)\n",
    "                        emb = mean_pooling(emb, x['attention_mask'])\n",
    "\n",
    "                        embs[terms[i]] = {'mean': emb}\n",
    "\n",
    "                        \n",
    "\n",
    "                pred = []\n",
    "                for i in range(len(data)):\n",
    "                        term1, term2 = data.iloc[i]['Term1'], data.iloc[i]['Term2']\n",
    "                        emb1, emb2 = embs.get(term1), embs.get(term2)\n",
    "                        pred.append(cos_sim_score(emb1, emb2))\n",
    "\n",
    "                corr, p_value = pearsonr(scores, pred)\n",
    "\n",
    "                tqdm.write(f'Corr: {round(corr, 4)}, p-value: {p_value}')"
   ]
  },
  {
   "cell_type": "code",
   "execution_count": 7,
   "metadata": {},
   "outputs": [
    {
     "name": "stdout",
     "output_type": "stream",
     "text": [
      "Processing pedersen benchmark.\n",
      "Corr: 0.3191, p-value: 0.08564782196903878\n",
      "Processing hliaoutakis benchmark.\n",
      "Corr: 0.3687, p-value: 0.03190269920992404\n",
      "Processing mayosrs benchmark.\n",
      "Corr: 0.2736, p-value: 0.005627247864234288\n",
      "Processing umnsrs benchmark.\n",
      "Corr: 0.3628, p-value: 4.736195605580019e-19\n",
      "Processing EHR-RelB benchmark.\n",
      "Corr: 0.3193, p-value: 8.226481711885376e-87\n"
     ]
    }
   ],
   "source": [
    "tokenizer = AutoTokenizer.from_pretrained('./umlsbert')\n",
    "model = AutoModel.from_pretrained('./umlsbert')\n",
    "\n",
    "\n",
    "gen_statistics(model=model, tokenizer=tokenizer)"
   ]
  },
  {
   "cell_type": "code",
   "execution_count": 8,
   "metadata": {},
   "outputs": [
    {
     "name": "stdout",
     "output_type": "stream",
     "text": [
      "Processing pedersen benchmark.\n",
      "Corr: 0.2102, p-value: 0.2650015661072366\n",
      "Processing hliaoutakis benchmark.\n",
      "Corr: 0.2614, p-value: 0.1353965201101399\n",
      "Processing mayosrs benchmark.\n",
      "Corr: 0.2811, p-value: 0.004406990854757223\n",
      "Processing umnsrs benchmark.\n",
      "Corr: 0.3042, p-value: 1.3914538227810849e-13\n",
      "Processing EHR-RelB benchmark.\n",
      "Corr: 0.3088, p-value: 4.672518789923176e-81\n"
     ]
    }
   ],
   "source": [
    "tokenizer = AutoTokenizer.from_pretrained('medicalai/ClinicalBERT')\n",
    "model = AutoModel.from_pretrained('medicalai/ClinicalBERT')\n",
    "\n",
    "gen_statistics(model=model, tokenizer=tokenizer)"
   ]
  },
  {
   "cell_type": "code",
   "execution_count": 9,
   "metadata": {},
   "outputs": [
    {
     "name": "stdout",
     "output_type": "stream",
     "text": [
      "Processing pedersen benchmark.\n",
      "Corr: 0.1076, p-value: 0.5712579826728992\n",
      "Processing hliaoutakis benchmark.\n",
      "Corr: 0.1985, p-value: 0.26038542950651455\n",
      "Processing mayosrs benchmark.\n",
      "Corr: 0.1734, p-value: 0.08296951384465213\n",
      "Processing umnsrs benchmark.\n",
      "Corr: 0.2345, p-value: 1.655438056157631e-08\n",
      "Processing EHR-RelB benchmark.\n",
      "Corr: 0.3384, p-value: 5.771290879971461e-98\n"
     ]
    }
   ],
   "source": [
    "tokenizer = AutoTokenizer.from_pretrained('emilyalsentzer/Bio_ClinicalBERT')\n",
    "model = AutoModel.from_pretrained('emilyalsentzer/Bio_ClinicalBERT')\n",
    "\n",
    "gen_statistics(model=model, tokenizer=tokenizer)"
   ]
  },
  {
   "cell_type": "code",
   "execution_count": 10,
   "metadata": {},
   "outputs": [
    {
     "name": "stdout",
     "output_type": "stream",
     "text": [
      "Processing pedersen benchmark.\n",
      "Corr: 0.6968, p-value: 1.887848344199177e-05\n",
      "Processing hliaoutakis benchmark.\n",
      "Corr: 0.6423, p-value: 4.2222764894625485e-05\n",
      "Processing mayosrs benchmark.\n",
      "Corr: 0.4506, p-value: 2.262756438415897e-06\n",
      "Processing umnsrs benchmark.\n",
      "Corr: 0.448, p-value: 2.686355593852232e-29\n",
      "Processing EHR-RelB benchmark.\n",
      "Corr: 0.5132, p-value: 4.2836718531969154e-243\n"
     ]
    }
   ],
   "source": [
    "tokenizer = AutoTokenizer.from_pretrained('sentence-transformers/all-mpnet-base-v1')\n",
    "model = AutoModel.from_pretrained('sentence-transformers/all-mpnet-base-v1')\n",
    "\n",
    "gen_statistics(model=model, tokenizer=tokenizer)"
   ]
  },
  {
   "cell_type": "code",
   "execution_count": null,
   "metadata": {},
   "outputs": [],
   "source": []
  }
 ],
 "metadata": {
  "kernelspec": {
   "display_name": ".venv",
   "language": "python",
   "name": "python3"
  },
  "language_info": {
   "codemirror_mode": {
    "name": "ipython",
    "version": 3
   },
   "file_extension": ".py",
   "mimetype": "text/x-python",
   "name": "python",
   "nbconvert_exporter": "python",
   "pygments_lexer": "ipython3",
   "version": "3.12.3"
  }
 },
 "nbformat": 4,
 "nbformat_minor": 2
}
